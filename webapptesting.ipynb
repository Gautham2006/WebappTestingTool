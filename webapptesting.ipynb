{
 "cells": [
  {
   "cell_type": "code",
   "execution_count": 10,
   "metadata": {},
   "outputs": [
    {
     "data": {
      "text/plain": [
       "True"
      ]
     },
     "execution_count": 10,
     "metadata": {},
     "output_type": "execute_result"
    }
   ],
   "source": [
    "import selenium\n",
    "from openai import OpenAI\n",
    "import os\n",
    "import dotenv\n",
    "\n",
    "dotenv.load_dotenv()\n",
    "\n",
    "\n"
   ]
  },
  {
   "cell_type": "markdown",
   "metadata": {},
   "source": [
    "RAG system for selenium agent| storing in vector database"
   ]
  },
  {
   "cell_type": "code",
   "execution_count": 5,
   "metadata": {},
   "outputs": [
    {
     "name": "stdout",
     "output_type": "stream",
     "text": [
      "PyMuPDF is working correctly!\n"
     ]
    }
   ],
   "source": [
    "import fitz\n",
    "print(\"PyMuPDF is working correctly!\")\n"
   ]
  },
  {
   "cell_type": "code",
   "execution_count": 7,
   "metadata": {},
   "outputs": [
    {
     "name": "stdout",
     "output_type": "stream",
     "text": [
      "Generated 402 chunks.\n"
     ]
    }
   ],
   "source": [
    "import fitz  # PyMuPDF\n",
    "import tiktoken\n",
    "\n",
    "pdf_path = \"selenium_documentation.pdf\"\n",
    "\n",
    "def extract_text_from_pdf(pdf_path):\n",
    "    doc = fitz.open(pdf_path)\n",
    "    text = \"\"\n",
    "    for page in doc:\n",
    "        text += page.get_text(\"text\") + \"\\n\\n\"\n",
    "    return text\n",
    "\n",
    "selenium_text = extract_text_from_pdf(pdf_path)\n",
    "\n",
    "# Split text into smaller chunks for embedding\n",
    "def chunk_text(text, max_tokens=500):\n",
    "    tokenizer = tiktoken.get_encoding(\"cl100k_base\")\n",
    "    words = text.split()\n",
    "    chunks, current_chunk = [], []\n",
    "\n",
    "    for word in words:\n",
    "        current_chunk.append(word)\n",
    "        if len(tokenizer.encode(\" \".join(current_chunk))) >= max_tokens:\n",
    "            chunks.append(\" \".join(current_chunk))\n",
    "            current_chunk = []\n",
    "\n",
    "    if current_chunk:\n",
    "        chunks.append(\" \".join(current_chunk))\n",
    "\n",
    "    return chunks\n",
    "\n",
    "text_chunks = chunk_text(selenium_text)\n",
    "print(f\"Generated {len(text_chunks)} chunks.\")\n"
   ]
  },
  {
   "cell_type": "code",
   "execution_count": 9,
   "metadata": {},
   "outputs": [
    {
     "name": "stdout",
     "output_type": "stream",
     "text": [
      "Stored Selenium docs in the vector database.\n"
     ]
    }
   ],
   "source": [
    "import chromadb\n",
    "\n",
    "\n",
    "# Initialize OpenAI client\n",
    "client = OpenAI(api_key=os.getenv(\"OPENAI_API_KEY\"))\n",
    "\n",
    "# Initialize ChromaDB\n",
    "chroma_client = chromadb.PersistentClient(path=\"./chroma_db\")\n",
    "collection = chroma_client.get_or_create_collection(name=\"selenium_docs\")\n",
    "\n",
    "# Embed and store chunks\n",
    "for i, chunk in enumerate(text_chunks):\n",
    "    response = client.embeddings.create(input=[chunk], model=\"text-embedding-3-small\")  # Updated API\n",
    "    embedding = response.data[0].embedding  # Corrected attribute access\n",
    "    collection.add(documents=[chunk], embeddings=[embedding], ids=[str(i)])\n",
    "\n",
    "print(\"Stored Selenium docs in the vector database.\")\n"
   ]
  },
  {
   "cell_type": "code",
   "execution_count": 21,
   "metadata": {},
   "outputs": [],
   "source": [
    "def query_selenium_docs(query):\n",
    "    # Initialize OpenAI client\n",
    "    client = OpenAI(api_key=os.getenv(\"OPENAI_API_KEY\"))\n",
    "\n",
    "    # Generate query embedding\n",
    "    response = client.embeddings.create(input=[query], model=\"text-embedding-3-small\")\n",
    "    query_embedding = response.data[0].embedding\n",
    "\n",
    "    # Retrieve top 3 relevant chunks\n",
    "    results = collection.query(\n",
    "        query_embeddings=[query_embedding],\n",
    "        n_results=3\n",
    "    )\n",
    "\n",
    "    # Combine retrieved documents\n",
    "    if results and results.get(\"documents\"):\n",
    "        context = \" \".join(results[\"documents\"][0])  # Combine top results\n",
    "    else:\n",
    "        context = \"No relevant information found in the documentation.\"\n",
    "    print(\"Context: \", context)\n",
    "    # Generate final response using GPT-4o (corrected model)\n",
    "    prompt = f\"Use the following Selenium documentation to answer the query:\\n\\n{context}\\n\\nUser query: {query}\\n\\nResponse:\"\n",
    "    \n",
    "    completion = client.chat.completions.create(\n",
    "        model=\"gpt-4o\",  # ✅ Use GPT-4o (correct model)\n",
    "        messages=[\n",
    "            {\"role\": \"user\", \"content\": prompt}  # ✅ Removed \"system\" role (unsupported)\n",
    "        ]\n",
    "    )\n",
    "\n",
    "    return completion.choices[0].message.content  # ✅ Corrected attribute access"
   ]
  },
  {
   "cell_type": "markdown",
   "metadata": {},
   "source": [
    "Test Retrival System"
   ]
  },
  {
   "cell_type": "code",
   "execution_count": 22,
   "metadata": {},
   "outputs": [
    {
     "name": "stdout",
     "output_type": "stream",
     "text": [
      "Context:  } </script> </head> <body> <input type=\"button\" id=\"btnConfirm\" onclick=\"show_confirm()\" value=\"Show confir 3/1/25, 10:28 AM The Selenium Browser Automation Project | Selenium https://www.selenium.dev/documentation/_print/ 521/698 The user must respond to alert/confirm boxes, as well as moving focus to newly opened popup windows. Fortunately, Selenium can cover JavaScript pop-ups. But before we begin covering alerts/confirms/prompts in individual detail, it is helpful to understand the commonality between them. Alerts, confirmation boxes and prompts all have variations of the following Command Description assertFoo(pattern) throws error if pattern doesn’t match the text of the pop-up assertFooPresent throws error if pop-up is not available assertFooNotPresent throws error if any pop-up is present storeFoo(variable) stores the text of the pop-up in a variable storeFooPresent(variable) stores the text of the pop-up in a variable and returns true or false When running under Selenium, JavaScript pop-ups will not appear. This is because the function calls are actually being overridden at runtime by Selenium’s own JavaScript. However, just because you cannot see the pop-up doesn’t mean you don’t have to deal with it. To handle a pop-up, you must call its assertFoo(pattern) function. If you fail to assert the presence of a pop-up your next command will be blocked and you will get an error similar to the following [error] Error: There was an unexpected Confirmation! [Chose an option.] Alerts Let’s start with alerts because they are the simplest pop-up to handle. To begin, open the HTML sample above in a browser and click on the “Show alert” button. You’ll notice that after you close the alert the text “Alert is gone.” is displayed on the page. Now run through the same steps with Selenium IDE recording, and verify the text is added after you close the alert. Your test will look something like this: <input type=\"button\" id=\"btnAlert\" onclick=\"show_alert()\" value=\"Show alert\" /> <input type=\"button\" id=\"btnPrompt\" onclick=\"show_prompt()\" value=\"Show prompt\" <a href=\"newWindow.html\" id=\"lnkNewWindow\" target=\"_blank\">New Window Link</a> <input type=\"button\" id=\"btnNewNamelessWindow\" onclick=\"open_window()\" value=\"Op <input this approach is to continue with test execution even if some UI elements are not available on page. Executing JavaScript from Your Test JavaScript comes very handy in exercising an application which is not directly supported by Selenium. The getEval method of Selenium API can be used to execute JavaScript from Selenium RC. Consider an application having check boxes with no static identifiers. In this case one could evaluate JavaScript from Selenium RC to get ids of all check boxes and then exercise them. // If element is available on page then perform type operation. if(selenium.isElementPresent(\"q\")) { selenium.type(\"q\", \"Selenium rc\"); } else { System.out.printf(\"Element: \" +q+ \" is not available on page.\") } public static String[] getAllCheckboxIds () { String script = \"var inputId = new Array();\";// Create array in java script script += \"var cnt = 0;\"; // Counter for check box ids. script += \"var inputFields = new Array();\"; // Create array in java script. script += \"inputFields = window.document.getElementsByTagName('input');\"; // script += \"for(var i=0; i<inputFields.length; i++) {\"; // Loop through the c script += \"if(inputFields[i].id !=null \" + \"&& inputFields[i].id !='undefined' \" + \"&& inputFields[i].getAttribute('type') == 'checkbox') {\"; // If input field script += \"inputId[cnt]=inputFields[i].id ;\" + // Save check box id to input \"cnt++;\" + // increment the counter. \"}\" + // end of if. \"}\"; // end of for. script += \"inputId.toString();\" ;// Convert array in to string. String[] checkboxIds = selenium.getEval(script).split(\",\"); // Split the str return checkboxIds; } 3/1/25, 10:28 AM The Selenium Browser Automation Project | Selenium https://www.selenium.dev/documentation/_print/ 416/698 To count number of images on a page: Remember to use window object in case of DOM expressions as by default selenium window is referred to, not the test window. Server Options When the server is launched, command line options can be used to change the default server behaviour. Recall, the server is started by running the following. To see the list of options, run the server with the -h option. You’ll see a list of all the options you can use with the server storeEval storedVars[‘hits’].storedVars[‘blockquotes’] paragraphs This next example illustrates how a JavaScript snippet can include calls to methods, in this case the JavaScript String object’s toUpperCase method and toLowerCase method. Command Target Value store Edith Wharton name storeEval storedVars[’name’].toUpperCase() uc storeEval storedVars[’name’].toUpperCase() lc JavaScript Usage with Non-Script Parameters JavaScript can also be used to help generate values for parameters, even when the parameter is not specified to be of type script. However, in this case, special syntax is required–the entire parameter value must be prefixed by javascript{ with a trailing } , which encloses the JavaScript snippet, as in javascript{*yourCodeHere*} . Below is an example in which the type command’s second parameter value is generated via JavaScript code using this special syntax: Command Target Value store league of nations searchString type q javascript{storedVars[‘searchString’].toUpperCase()} echo - The Selenese Print Command Selenese has a simple command that allows you to print text to your test’s output. This is useful for providing informational progress notes in your test which display on the console as your test is running. These notes also can be used to provide context within your test result reports, which can be useful for finding where a defect exists on a page in the event your test finds a problem. Finally, echo statements can be used to print the contents of Selenium variables. Command Target Value echo Testing page footer now. 3/1/25, 10:28 AM The Selenium Browser Automation Project | Selenium https://www.selenium.dev/documentation/_print/ 520/698 Command Target Value echo Username is \\${userName} Alerts, Popups, and Multiple Windows Suppose that you are testing a page that looks like this. <!DOCTYPE HTML> <html> <head> <script type=\"text/javascript\"> function output(resultText){ document.getElementById('output').childNodes[0].nodeValue=resultText; } function show_confirm(){ var confirmation=confirm(\"Chose an option.\"); if (confirmation==true){ output(\"Confirmed.\"); } else{ output(\"Rejected!\"); } } function show_alert(){ alert(\"I'm blocking!\"); output(\"Alert is gone.\"); } function show_prompt(){ var response = prompt(\"What's the best web QA tool?\",\"Selenium\"); output(response); } function open_window(windowName){ window.open(\"newWindow.html\",windowName);\n",
      "To create a test to check if the local website, specifically the \"Like\" button feature, is responsive using Selenium, you can write a Selenium test script. This script will simulate a user clicking the \"Like\" button and verify that the \"Likes\" count increases as expected. Below is an example of how you might set up this test in Python with Selenium:\n",
      "\n",
      "```python\n",
      "from selenium import webdriver\n",
      "from selenium.webdriver.common.by import By\n",
      "import time\n",
      "import unittest\n",
      "\n",
      "class ResponsiveLikeButtonTest(unittest.TestCase):\n",
      "\n",
      "    def setUp(self):\n",
      "        # Initialize WebDriver\n",
      "        self.driver = webdriver.Chrome()\n",
      "        self.driver.get(\"path/to/your/local/file.html\")  # update with the correct path to your local HTML file\n",
      "\n",
      "    def test_like_button_functionality(self):\n",
      "        driver = self.driver\n",
      "\n",
      "        # Find the like button and initial like count\n",
      "        like_button = driver.find_element(By.CLASS_NAME, 'like-button')\n",
      "        like_count_element = driver.find_element(By.ID, 'like-count')\n",
      "\n",
      "        # Initial like count should be 0\n",
      "        initial_like_count = int(like_count_element.text)\n",
      "        self.assertEqual(initial_like_count, 0, \"Initial like count should be 0.\")\n",
      "\n",
      "        # Click the like button\n",
      "        like_button.click()\n",
      "        time.sleep(1)  # Wait for the count to update\n",
      "\n",
      "        # Check like count after one click\n",
      "        new_like_count = int(like_count_element.text)\n",
      "        self.assertEqual(new_like_count, initial_like_count + 1, \"Like count should increase by 1 after clicking.\")\n",
      "\n",
      "        # Click the like button again\n",
      "        like_button.click()\n",
      "        time.sleep(1)  # Wait for the count to update\n",
      "\n",
      "        # Check like count after second click\n",
      "        final_like_count = int(like_count_element.text)\n",
      "        self.assertEqual(final_like_count, new_like_count + 1, \"Like count should increase by 1 with each click.\")\n",
      "\n",
      "    def tearDown(self):\n",
      "        # Close the browser window\n",
      "        self.driver.quit()\n",
      "\n",
      "if __name__ == \"__main__\":\n",
      "    unittest.main()\n",
      "```\n",
      "\n",
      "### Key Points:\n",
      "- **WebDriver Setup**: The test initializes a Selenium WebDriver instance using the Chrome browser and loads the local HTML file.\n",
      "- **Test Flow**:\n",
      "  - Locate the \"Like\" button and the \"Likes\" count element using `find_element`.\n",
      "  - Verify that the initial \"Likes\" count is 0.\n",
      "  - Simulate user clicks on the \"Like\" button and verify that the \"Likes\" count increases by 1 with each click.\n",
      "- **Assertions**: Use assertions to check that the \"Likes\" count increments correctly.\n",
      "- **Teardown**: The `tearDown` method ensures that the browser is closed after the test, freeing up resources.\n",
      "\n",
      "Make sure to have the ChromeDriver installed and updated, and adjust the file path in `get()` method to point to the HTML file on your local system. This script will simulate user interactions with the \"Like\" button to ensure the feature responds correctly in terms of functionality.\n"
     ]
    }
   ],
   "source": [
    "#test\n",
    "\n",
    "query = '''Create a test to check if this local website is responsive here is the code: \n",
    "<!DOCTYPE html>\n",
    "<html lang=\"en\">\n",
    "<head>\n",
    "    <meta charset=\"UTF-8\">\n",
    "    <meta name=\"viewport\" content=\"width=device-width, initial-scale=1.0\">\n",
    "    <title>Responsive Like Buttons</title>\n",
    "    <style>\n",
    "        body {\n",
    "            font-family: Arial, sans-serif;\n",
    "            display: flex;\n",
    "            justify-content: center;\n",
    "            align-items: center;\n",
    "            height: 100vh;\n",
    "            background-color: #f4f4f4;\n",
    "            margin: 0;\n",
    "        }\n",
    "        .container {\n",
    "            width: 80%;\n",
    "            max-width: 600px;\n",
    "            background: white;\n",
    "            padding: 20px;\n",
    "            border-radius: 10px;\n",
    "            box-shadow: 0 0 10px rgba(0, 0, 0, 0.1);\n",
    "            text-align: center;\n",
    "        }\n",
    "        .like-button {\n",
    "            background-color: #007bff;\n",
    "            color: white;\n",
    "            border: none;\n",
    "            padding: 10px 20px;\n",
    "            font-size: 16px;\n",
    "            cursor: pointer;\n",
    "            border-radius: 5px;\n",
    "            transition: background 0.3s;\n",
    "        }\n",
    "        .like-button:hover {\n",
    "            background-color: #0056b3;\n",
    "        }\n",
    "        .count {\n",
    "            font-size: 18px;\n",
    "            margin-top: 10px;\n",
    "        }\n",
    "    </style>\n",
    "</head>\n",
    "<body>\n",
    "    <div class=\"container\">\n",
    "        <h2>Like This Post</h2>\n",
    "        <button class=\"like-button\" onclick=\"likePost()\">Like</button>\n",
    "        <p class=\"count\">Likes: <span id=\"like-count\">0</span></p>\n",
    "    </div>\n",
    "\n",
    "    <script>\n",
    "        let likeCount = 0;\n",
    "        function likePost() {\n",
    "            likeCount++;\n",
    "            document.getElementById(\"like-count\").textContent = likeCount;\n",
    "        }\n",
    "    </script>\n",
    "</body>\n",
    "</html>\n",
    "\n",
    "\n",
    "'''\n",
    "print(query_selenium_docs(query))"
   ]
  },
  {
   "cell_type": "code",
   "execution_count": null,
   "metadata": {},
   "outputs": [],
   "source": [
    "# step 1: user asks to make website\n",
    "user_input = 'make me a website that has a red button that says \"Click me\" and when clicked it changes the buttons background color to blue and if clicked again it changes it back to red.'\n",
    "# step 2: webdev agent creates website then asks selenium agent to test it using selenium\n",
    "\n",
    "# step 3: selenium agent identifies key testing points and creates tests for them, then runs them and gives feedback to the webdev agent.\n",
    "# step 4: webdev agent fixes the issues and the cycle continues until the website is perfect.\n"
   ]
  }
 ],
 "metadata": {
  "kernelspec": {
   "display_name": "venv",
   "language": "python",
   "name": "python3"
  },
  "language_info": {
   "codemirror_mode": {
    "name": "ipython",
    "version": 3
   },
   "file_extension": ".py",
   "mimetype": "text/x-python",
   "name": "python",
   "nbconvert_exporter": "python",
   "pygments_lexer": "ipython3",
   "version": "3.11.5"
  }
 },
 "nbformat": 4,
 "nbformat_minor": 2
}
